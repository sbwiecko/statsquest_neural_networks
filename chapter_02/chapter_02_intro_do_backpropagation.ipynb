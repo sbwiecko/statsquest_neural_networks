{
  "cells": [
    {
      "cell_type": "markdown",
      "id": "61a3466e-96aa-47bb-a7af-b8e9a93d3d5d",
      "metadata": {
        "id": "61a3466e-96aa-47bb-a7af-b8e9a93d3d5d"
      },
      "source": [
        "# Chapter 2 -- Build and train a very simple neural network with backpropagation\n",
        "\n",
        "In this notebook, we will build, and train the very simple neural network featured in Chapter 2 of **[The StatQuest Illustrated Guide to Neural Networks and AI](https://www.amazon.com/dp/B0DRS71QVQ)**. We'll start with the untrained **Weights** and **Biases**, as seen in the figure below.\n",
        "\n",
        "<img src=\"https://github.com/StatQuest/signa/blob/main/chapter_02/images/chapter_2_train_all.png?raw=1\" alt=\"an untrained neural network\" style=\"width: 800px;\">\n",
        "\n",
        "Then train them with **Backpropagation** to get the trained Weights and Biases seen in the figure below.\n",
        "\n",
        "<img src=\"https://github.com/StatQuest/signa/blob/main/chapter_02/images/chapter_1_pre_trained_nn_labeled.png?raw=1\" alt=\"a trained neural network\" style=\"width: 800px;\">\n",
        "\n",
        "In this tutorial, we will:\n",
        "\n",
        "- **Code a neural network with untrained weights and biases**. This will show the basic structure of a class that inherits from [`LightningModule` to build a neural network](https://lightning.ai/docs/pytorch/stable/).\n",
        "- **Train the weights and biases in our neural network**. This will show how to train the weights and biases in a simple neural network."
      ]
    },
    {
      "cell_type": "code",
      "execution_count": 1,
      "id": "8c818152-6ca2-4ee0-9168-f77c9b4cac1c",
      "metadata": {
        "id": "8c818152-6ca2-4ee0-9168-f77c9b4cac1c"
      },
      "outputs": [],
      "source": [
        "import torch\n",
        "import torch.nn as nn\n",
        "import torch.nn.functional as F\n",
        "from torch.optim import SGD\n",
        "# see https://docs.pytorch.org/docs/stable/generated/torch.optim.SGD.html\n",
        "# SGD is short of Stochastic Gradient Descent, but\n",
        "# the way we'll use it, passing in all of the training\n",
        "# data at once instead of passing it random subsets,\n",
        "# it will act just like plain old Gradient Descent.\n",
        "\n",
        "import lightning as L  ## Lightning makes it easier to write, optimize and scale code\n",
        "from torch.utils.data import TensorDataset, DataLoader\n",
        "## We'll store our data in DataLoaders. See explanations below.\n",
        "\n",
        "import matplotlib.pyplot as plt\n",
        "import seaborn as sns\n",
        "\n",
        "plt.rcParams[\"figure.figsize\"]= (2,2)"
      ]
    },
    {
      "cell_type": "markdown",
      "id": "7d471f59",
      "metadata": {},
      "source": [
        "*PyTorch* is the foundational deep learning framework. It provides the fundamental tools to build and define neural networks, like tensors and layers.\n",
        "\n",
        "*PyTorch Lightning* is a high-level wrapper built on top of PyTorch. It's not a replacement; it's a way to **organize** the PyTorch code and remove boilerplate. It enforces a clean structure using the `LightningModule`. This class organizes the code into clear, dedicated methods:\n",
        "\n",
        "_ `__init__()` & `forward()`: define the model layers (just like in pure PyTorch).\n",
        "- `training_step()`: what happens for one batch of training.\n",
        "- `validation_step()`: what happens for one batch of validation.\n",
        "- `test_step()`: what happens for one batch of testing.\n",
        "- `configure_optimizers()`: where we return our optimizer (e.g., Adam)."
      ]
    },
    {
      "cell_type": "markdown",
      "id": "b4ca5fb5-e879-4453-9e86-dbc37c158afa",
      "metadata": {
        "id": "b4ca5fb5-e879-4453-9e86-dbc37c158afa"
      },
      "source": [
        "## Create the Training Dataset\n",
        "\n",
        "In Chapter 2, we had a very simple dataset that consisted of three points, as seen in the figure below.\n",
        "\n",
        "<img src=\"https://github.com/StatQuest/signa/blob/main/chapter_02/images/chapter_2_training_data.png?raw=1\" alt=\"a simple dataset for training\" style=\"width: 800px;\">\n",
        "\n",
        "Although it's not required, we're going to put our training data into a `DataLoader`. This will offer a lot of features, for example, if we had a large dataset, a `DataLoader` gives us an easy way to access the data in batches instead of all at once. This is critical when we have more data than RAM to store it in. A DataLoader can also shuffle the data for us each epoch and makes it easy to only use a fraction of the data if we want to do a quick and rough training for debugging purposes."
      ]
    },
    {
      "cell_type": "code",
      "execution_count": 2,
      "id": "49840acf-ddb6-4577-8401-de872ab62c32",
      "metadata": {
        "id": "49840acf-ddb6-4577-8401-de872ab62c32"
      },
      "outputs": [],
      "source": [
        "# The inputs are the x-axis coordinates for each data point\n",
        "# These values represent different doses\n",
        "training_inputs = torch.tensor([0.0, 0.5, 1.0])\n",
        "\n",
        "# The labels are the y-axis coordinates for each data point\n",
        "# These values represent the effectiveness\n",
        "training_labels = torch.tensor([0.0, 1.0, 0.0])\n",
        "\n",
        "# Now let's package everything up into a DataLoader\n",
        "training_dataset = TensorDataset(training_inputs, training_labels)\n",
        "dataloader = DataLoader(training_dataset)  # Feed with a tuple of tensors"
      ]
    },
    {
      "cell_type": "code",
      "execution_count": 3,
      "id": "107f6ac0",
      "metadata": {},
      "outputs": [
        {
          "name": "stdout",
          "output_type": "stream",
          "text": [
            "(tensor([0.0000, 0.5000, 1.0000]), tensor([0., 1., 0.]))\n"
          ]
        }
      ],
      "source": [
        "print(training_dataset.tensors)"
      ]
    },
    {
      "cell_type": "markdown",
      "id": "7adfb2eb-0ad7-426d-9946-6a7185737647",
      "metadata": {
        "id": "7adfb2eb-0ad7-426d-9946-6a7185737647"
      },
      "source": [
        "## Create a Neural Network\n",
        "\n",
        "Now we'll build a neural network that has trainable Weights and Biases.\n",
        "\n",
        "For this, we'll use `L.LightningModule`, which has everything `nn.Module` has, plus we can define the optimizer we want to use as well as tell PyTorch how each training step should work."
      ]
    },
    {
      "cell_type": "code",
      "execution_count": 4,
      "id": "4881afee-1cd9-4440-8ffc-1f86b321c539",
      "metadata": {
        "id": "4881afee-1cd9-4440-8ffc-1f86b321c539"
      },
      "outputs": [],
      "source": [
        "class myNN(L.LightningModule):  # We don't henerit from `nn.Module` like in Chapter 1.\n",
        "\n",
        "    def __init__(self):\n",
        "        super().__init__()\n",
        "\n",
        "        \"\"\"\n",
        "        Create all of the weights and biases for the network.\n",
        "        However, this time they are initialized with *random values*.\n",
        "\n",
        "        We are also wrapping the tensors up in `nn.Parameter()`\n",
        "        objects, instead of just tensor, like previously , for example\n",
        "        in `self.w1 = torch.tensor(1.43)`. PyTorch will only optimize \n",
        "        parameters. There are a lot of different ways to create parameters,\n",
        "        and we'll see those in later examples, but `nn.Parameter()` is \n",
        "        the most basic.\n",
        "        \"\"\"\n",
        "\n",
        "        self.w1 = nn.Parameter(torch.tensor(0.06))\n",
        "        self.b1 = nn.Parameter(torch.tensor(0.0))\n",
        "\n",
        "        self.w2 = nn.Parameter(torch.tensor(3.49))\n",
        "        self.b2 = nn.Parameter(torch.tensor(0.0))\n",
        "\n",
        "        self.w3 = nn.Parameter(torch.tensor(-4.11))\n",
        "        self.w4 = nn.Parameter(torch.tensor(2.74))\n",
        "\n",
        "        self.loss = nn.MSELoss(reduction='sum')  # SSR\n",
        "\n",
        "\n",
        "    def forward(self, input_values):  # Identical to what we used in Chapter 1.\n",
        "\n",
        "        top_x_axis_values = (input_values * self.w1) + self.b1\n",
        "        bottom_x_axis_values = (input_values * self.w2) + self.b2\n",
        "\n",
        "        top_y_axis_values = F.relu(top_x_axis_values)\n",
        "        bottom_y_axis_values = F.relu(bottom_x_axis_values)\n",
        "\n",
        "        output_values = (top_y_axis_values * self.w3) + (bottom_y_axis_values * self.w4)\n",
        "\n",
        "        return output_values\n",
        "\n",
        "\n",
        "    def configure_optimizers(self):  # Configures optimizer to use for backpropagation.\n",
        "\n",
        "        \"\"\"\n",
        "        PyTorch doesn't have a Gradient Descent optimizer (see page 51), but a\n",
        "        Stochastic Gradient Descent (SGD) optimizer, that uses randoms subsets of \n",
        "        data. However, since we are running only 3 doses through the NN each time, \n",
        "        rather than a random subset, we are essentially doing Gradient Descent.\n",
        "        \"\"\"\n",
        "\n",
        "        return SGD(self.parameters(), lr=0.01)\n",
        "\n",
        "\n",
        "    def training_step(self, batch):  # Take a step during gradient descent.\n",
        "        \n",
        "        inputs, labels = batch  # Collect input\n",
        "        outputs = self.forward(inputs)  # Run input through the neural network\n",
        "        loss = self.loss(outputs, labels)\n",
        "\n",
        "        \"\"\"\n",
        "        the `loss` quantifies the difference between the observed drug effectiveness\n",
        "        in `labels` and the outputs created by the neural network.\n",
        "        \"\"\"\n",
        "\n",
        "        return loss"
      ]
    },
    {
      "cell_type": "markdown",
      "id": "22ac63e3",
      "metadata": {},
      "source": [
        "PyTorch Lightning operates on a principle of \"convention over configuration.\" It expects us to define specific methods with particular names in the `LightningModule`, and it will automatically call them at the correct time during the training, validation, and testing loops.\n",
        "\n",
        "The `training_step` method is one of these required, conventional methods for training."
      ]
    },
    {
      "cell_type": "code",
      "execution_count": 5,
      "id": "ff36d865-fcab-435d-9b1d-484a3ed8cd7a",
      "metadata": {
        "id": "ff36d865-fcab-435d-9b1d-484a3ed8cd7a"
      },
      "outputs": [
        {
          "name": "stdout",
          "output_type": "stream",
          "text": [
            "w1 tensor(0.0600)\n",
            "b1 tensor(0.)\n",
            "w2 tensor(3.4900)\n",
            "b2 tensor(0.)\n",
            "w3 tensor(-4.1100)\n",
            "w4 tensor(2.7400)\n"
          ]
        }
      ],
      "source": [
        "model = myNN()  # Make model from the class\n",
        "\n",
        "# Now print out the name and value for each named parameter parameter in the model. \n",
        "# Remember parameters are variables, like Weights and Biases, that we can train.\n",
        "\n",
        "for name, param in model.named_parameters():\n",
        "    print(name, torch.round(param.data, decimals=2))"
      ]
    },
    {
      "cell_type": "code",
      "execution_count": 6,
      "id": "033dd021",
      "metadata": {},
      "outputs": [
        {
          "data": {
            "text/plain": [
              "[Parameter containing:\n",
              " tensor(0.0600, requires_grad=True),\n",
              " Parameter containing:\n",
              " tensor(0., requires_grad=True),\n",
              " Parameter containing:\n",
              " tensor(3.4900, requires_grad=True),\n",
              " Parameter containing:\n",
              " tensor(0., requires_grad=True),\n",
              " Parameter containing:\n",
              " tensor(-4.1100, requires_grad=True),\n",
              " Parameter containing:\n",
              " tensor(2.7400, requires_grad=True)]"
            ]
          },
          "execution_count": 6,
          "metadata": {},
          "output_type": "execute_result"
        }
      ],
      "source": [
        "list(model.parameters())"
      ]
    },
    {
      "cell_type": "code",
      "execution_count": 7,
      "id": "a812dc07",
      "metadata": {},
      "outputs": [
        {
          "name": "stdout",
          "output_type": "stream",
          "text": [
            "Model: myNN(\n",
            "  (loss): MSELoss()\n",
            ")\n"
          ]
        }
      ],
      "source": [
        "print(\"Model:\", model)"
      ]
    },
    {
      "cell_type": "code",
      "execution_count": 8,
      "id": "9bd1842d-b97c-4b8f-91c9-6bc6884e1dfa",
      "metadata": {
        "id": "9bd1842d-b97c-4b8f-91c9-6bc6884e1dfa"
      },
      "outputs": [
        {
          "name": "stdout",
          "output_type": "stream",
          "text": [
            "Output from the initialized NN:\n",
            "tensor([0., 5., 9.], grad_fn=<RoundBackward0>)\n"
          ]
        }
      ],
      "source": [
        "# Run different doses through the neural network through `forward`\n",
        "output_values = model(training_inputs)\n",
        "\n",
        "print(\"Output from the initialized NN:\")\n",
        "print(torch.round(output_values))"
      ]
    },
    {
      "cell_type": "markdown",
      "id": "e0c0a5a5-47f0-4e45-be2b-a7cf10756e29",
      "metadata": {
        "id": "e0c0a5a5-47f0-4e45-be2b-a7cf10756e29"
      },
      "source": [
        "## Plot of the initial model\n",
        "\n",
        "We successfully ran the doses from the training data through the model. However, the output from the model is way different than we expect (we expected 0.0, 1.0, and 0.0). So let's draw a picture of the bent shape that the model uses to make predictions and compare that to the training data."
      ]
    },
    {
      "cell_type": "code",
      "execution_count": 9,
      "id": "901253af-43f6-40dc-97af-175c36e5290e",
      "metadata": {
        "id": "901253af-43f6-40dc-97af-175c36e5290e"
      },
      "outputs": [
        {
          "name": "stdout",
          "output_type": "stream",
          "text": [
            "Input dose values: tensor([0.0000, 0.1000, 0.2000, 0.3000, 0.4000, 0.5000, 0.6000, 0.7000, 0.8000,\n",
            "        0.9000, 1.0000])\n"
          ]
        }
      ],
      "source": [
        "# Create the different doses we want to run through the neural network.\n",
        "# torch.linspace() creates the sequence of numbers between, and including, 0 and 1.\n",
        "input_doses = torch.linspace(start=0, end=1, steps=11)\n",
        "\n",
        "# Print out the doses to make sure they are what we expect\n",
        "print(\"Input dose values:\", input_doses)"
      ]
    },
    {
      "cell_type": "code",
      "execution_count": 10,
      "id": "c84cbadf-86ec-4f11-af2c-dfece12f197a",
      "metadata": {
        "id": "c84cbadf-86ec-4f11-af2c-dfece12f197a"
      },
      "outputs": [
        {
          "name": "stdout",
          "output_type": "stream",
          "text": [
            "Output predicted effectiveness: tensor([0.0000, 0.9316, 1.8632, 2.7948, 3.7264, 4.6580, 5.5896, 6.5212, 7.4528,\n",
            "        8.3844, 9.3160], grad_fn=<AddBackward0>)\n"
          ]
        }
      ],
      "source": [
        "output_values = model(input_doses)\n",
        "print(\"Output predicted effectiveness:\", output_values)"
      ]
    },
    {
      "cell_type": "markdown",
      "id": "e27eb86f",
      "metadata": {},
      "source": [
        "Now draw a graph that shows how well, or poorly, the model predicts the training data. At this point, since the model is untrained, there should be a big difference between the model's output and the training data.\n",
        "\n",
        "Note that every tensor that has `requires_grad=True` (like the current model) is part of a graph. PyTorch records every operation (addition, multiplication, etc.) involving this tensor. Libraries like Seaborn, Matplotlib, and NumPy have no concept of this computational graph. They are external libraries that expect simple data, like a Python number or a NumPy array, not a \"live\" PyTorch tensor that's actively tracking operations. That's why here we must first \"detach\" it from the computational graph."
      ]
    },
    {
      "cell_type": "code",
      "execution_count": 11,
      "id": "f3bc01f1-65d4-4fb0-b428-6730f64d829a",
      "metadata": {
        "id": "f3bc01f1-65d4-4fb0-b428-6730f64d829a"
      },
      "outputs": [
        {
          "data": {
            "image/png": "[encoded data removed]",
            "text/plain": [
              "<Figure size 200x200 with 1 Axes>"
            ]
          },
          "metadata": {},
          "output_type": "display_data"
        }
      ],
      "source": [
        "# First, draw the individual output points\n",
        "sns.scatterplot(\n",
        "    x=input_doses,\n",
        "    # y=output_values.detach().numpy(),\n",
        "    y=output_values.detach(),\n",
        "    color='green',\n",
        "    label='model',\n",
        ")\n",
        "\n",
        "# Now connect those points with a line\n",
        "sns.lineplot(\n",
        "    x=input_doses,\n",
        "    y=output_values.detach(),\n",
        "    color='green',\n",
        "    linewidth=2)\n",
        "\n",
        "# Add the values in the training dataset\n",
        "sns.scatterplot(\n",
        "    x=training_inputs,\n",
        "    y=training_labels,\n",
        "    color='orange',\n",
        "    marker='s',\n",
        "    label='training data')\n",
        "\n",
        "# now label the y- and x-axes.\n",
        "plt.ylabel('Effectiveness')\n",
        "plt.xlabel('Dose')\n",
        "plt.legend();"
      ]
    },
    {
      "cell_type": "markdown",
      "id": "89b10eaf-4fae-46bc-af6c-f05ebdada746",
      "metadata": {
        "id": "89b10eaf-4fae-46bc-af6c-f05ebdada746"
      },
      "source": [
        "We see how badly the bent shape fits the training data, so let's train the model."
      ]
    },
    {
      "cell_type": "markdown",
      "id": "59123d80-2a03-4f66-9a41-f3e85b040ddd",
      "metadata": {
        "id": "59123d80-2a03-4f66-9a41-f3e85b040ddd"
      },
      "source": [
        "## Training the Weights and Biases\n",
        "\n",
        "Training consists of creating a **Lightning Trainer** with `L.Trainer()` and then calling the `fit()` method on the our model with the training data."
      ]
    },
    {
      "cell_type": "code",
      "execution_count": 12,
      "id": "033b9bc6-39ac-4fb1-aabd-355f22f54677",
      "metadata": {
        "id": "033b9bc6-39ac-4fb1-aabd-355f22f54677"
      },
      "outputs": [
        {
          "name": "stderr",
          "output_type": "stream",
          "text": [
            "GPU available: False, used: False\n",
            "TPU available: False, using: 0 TPU cores\n",
            "HPU available: False, using: 0 HPUs\n",
            "\n",
            "  | Name         | Type    | Params | Mode \n",
            "-------------------------------------------------\n",
            "0 | loss         | MSELoss | 0      | train\n",
            "  | other params | n/a     | 6      | n/a  \n",
            "-------------------------------------------------\n",
            "6         Trainable params\n",
            "0         Non-trainable params\n",
            "6         Total params\n",
            "0.000     Total estimated model params size (MB)\n",
            "1         Modules in train mode\n",
            "0         Modules in eval mode\n",
            "c:\\Users\\Sébastien\\Documents\\data_science\\machine_learning\\statsquest_neural_networks\\.env\\Lib\\site-packages\\lightning\\pytorch\\trainer\\connectors\\data_connector.py:433: The 'train_dataloader' does not have many workers which may be a bottleneck. Consider increasing the value of the `num_workers` argument` to `num_workers=7` in the `DataLoader` to improve performance.\n",
            "`Trainer.fit` stopped: `max_epochs=500` reached.\n"
          ]
        }
      ],
      "source": [
        "trainer = L.Trainer(\n",
        "    max_epochs=500,  # How many times to go through the training data\n",
        "    logger=False,\n",
        "    enable_checkpointing=False,\n",
        "    enable_progress_bar=False)\n",
        "\n",
        "trainer.fit(model, train_dataloaders=dataloader)"
      ]
    },
    {
      "cell_type": "markdown",
      "id": "3e099828",
      "metadata": {},
      "source": [
        "When we use a PyTorch Lightning `Trainer` to train our model, the `Trainer` executes a pre-defined, optimized training loop. Here's a simplified breakdown of what the `Trainer` does automatically behind the scenes for each batch of data:\n",
        "\n",
        "1.  **Fetches a Batch:** the `Trainer` gets a batch of data from the data loader. In the current example, it takes all 3 data points.\n",
        "2.  **Calls `training_step`:** it passes this batch to our model's `training_step(self, batch)` method. Remind here that the method returns `loss`.\n",
        "3.  **Receives the Loss:** the `Trainer` require that the `training_step` method returns a single tensor representing the calculated loss.\n",
        "4.  **Automatic Backpropagation:** once the `Trainer` receives the `loss` tensor from the defined `training_step`, it automatically performs the backpropagation process:\n",
        "    - Calling `loss.backward()` to compute the gradients of the loss with respect to all of our model's parameters (the `nn.Parameter` objects like `self.w1`, `self.b1`, etc.).\n",
        "    - Calling `optimizer.step()` to update the parameters based on the computed gradients and the learning rate. The optimizer itself is what we defined in the `configure_optimizers` method.\n",
        "    - Calling `optimizer.zero_grad()` to reset the gradients for the next iteration."
      ]
    },
    {
      "cell_type": "code",
      "execution_count": 13,
      "id": "146b0cf3-9541-4d59-853f-63202fbad7ae",
      "metadata": {
        "id": "146b0cf3-9541-4d59-853f-63202fbad7ae"
      },
      "outputs": [
        {
          "name": "stdout",
          "output_type": "stream",
          "text": [
            "w1 tensor(1.4790)\n",
            "b1 tensor(-0.5680)\n",
            "w2 tensor(2.6980)\n",
            "b2 tensor(-0.2580)\n",
            "w3 tensor(-4.2400)\n",
            "w4 tensor(1.5830)\n"
          ]
        }
      ],
      "source": [
        "# Now that we've trained the model, let's print out the new values for each Weight and Bias.\n",
        "for name, param in model.named_parameters():\n",
        "    print(name, torch.round(param.data, decimals=3))"
      ]
    },
    {
      "cell_type": "markdown",
      "id": "bd1935b5-4256-49c9-9117-8aab8ad382b3",
      "metadata": {
        "id": "bd1935b5-4256-49c9-9117-8aab8ad382b3"
      },
      "source": [
        "Lastly, let's draw a graph of the bent shape that the model is using for predictions and compare it to the training data. In theory, the bent shape should fit the data much better now that we have optimized the Weights and Biases."
      ]
    },
    {
      "cell_type": "code",
      "execution_count": 14,
      "id": "11539eec-29cc-4efb-ab2e-ddf82ba360c2",
      "metadata": {
        "id": "11539eec-29cc-4efb-ab2e-ddf82ba360c2"
      },
      "outputs": [
        {
          "name": "stdout",
          "output_type": "stream",
          "text": [
            "Output predicted effectiveness (after training): tensor([0.0000, 0.0200, 0.4500, 0.8700, 1.2000, 1.0000, 0.8000, 0.6000, 0.4000,\n",
            "        0.2000, 0.0000], grad_fn=<RoundBackward1>)\n"
          ]
        }
      ],
      "source": [
        "# Run the different doses through the trained neural network.\n",
        "output_values_trained = model(input_doses)\n",
        "\n",
        "print(\n",
        "    \"Output predicted effectiveness (after training):\",\n",
        "    torch.round(output_values_trained, decimals=2))"
      ]
    },
    {
      "cell_type": "markdown",
      "id": "30cceac5",
      "metadata": {},
      "source": [
        "Now draw a graph that shows how well, or poorly, the model predicts the training data. At this point, since we just trained the model, the training data should overlap the model's output"
      ]
    },
    {
      "cell_type": "code",
      "execution_count": 15,
      "id": "186b2d67-8621-4be3-937e-e1fc980475a9",
      "metadata": {
        "id": "186b2d67-8621-4be3-937e-e1fc980475a9"
      },
      "outputs": [
        {
          "data": {
            "image/png": "[encoded data removed]",
            "text/plain": [
              "<Figure size 200x200 with 1 Axes>"
            ]
          },
          "metadata": {},
          "output_type": "display_data"
        }
      ],
      "source": [
        "# First, draw the individual output points\n",
        "sns.scatterplot(\n",
        "    x=input_doses,\n",
        "    y=output_values_trained.detach(),\n",
        "    color='green',\n",
        "    label='predicted',\n",
        "    )\n",
        "\n",
        "# Now connect those points with a line\n",
        "sns.lineplot(\n",
        "    x=input_doses,\n",
        "    y=output_values_trained.detach(),\n",
        "    color='green',\n",
        "    linewidth=2)\n",
        "\n",
        "# Add the values in the training dataset\n",
        "sns.scatterplot(\n",
        "    x=training_inputs,\n",
        "    y=training_labels,\n",
        "    color='orange',\n",
        "    marker='s',\n",
        "    label='training'\n",
        "    )\n",
        "\n",
        "# Now label the y- and x-axes\n",
        "plt.ylabel('Effectiveness')\n",
        "plt.xlabel('Dose')\n",
        "plt.legend();"
      ]
    },
    {
      "cell_type": "markdown",
      "id": "3598b8d4",
      "metadata": {},
      "source": [
        "## More mathematics\n",
        "\n",
        "### The neural network\n",
        "\n",
        "#### The unit neuron\n",
        "\n",
        "Basically, we can see the neural network as a mathematical function $y = f(X)$. With a single edge between two edges $a^{(0)}$, from the first layer $(0)$, and $a^{(1)}$ from the second layer $(1)$, both layers actually contain a single edge, we can write:\n",
        "\n",
        "```mermaid\n",
        "%%{init:{'theme': 'neutral'}}%%\n",
        "graph LR\n",
        "    %% Define the 'invisible' class for the bias\n",
        "    classDef biasStyle fill:none,stroke:none,color:#000\n",
        "    \n",
        "    subgraph Input Layer\n",
        "        direction TB\n",
        "        I((\"a⁽⁰⁾\"))\n",
        "    end\n",
        "\n",
        "    subgraph Output Layer\n",
        "        direction TB\n",
        "        O((\"a⁽¹⁾\"))\n",
        "    end\n",
        "\n",
        "    S{\"Σ\"}\n",
        "    f[\"σ\"]\n",
        "    b[\"b\"]:::biasStyle\n",
        "\n",
        "    I -->|w| S\n",
        "    b --> S\n",
        "    S --> f\n",
        "    f --> O\n",
        "```\n",
        "\n",
        "$$\n",
        "a^{(0)} \\longmapsto a^{(1)} \\\\\n",
        "a^{(1)} = \\sigma(wa^{(0)} + b)\n",
        "$$\n",
        "\n",
        "with:\n",
        "\n",
        "- $a$ the activity\n",
        "- $w$ the weigth\n",
        "- $b$ the biais\n",
        "- $\\sigma$ the activation function, e.g., ReLU, that receives information and is activated above a certain threshold"
      ]
    },
    {
      "cell_type": "markdown",
      "id": "445b04bc",
      "metadata": {},
      "source": [
        "#### Towards vectors\n",
        "\n",
        "Let's say now that we have two nodes in the input layer $(0)$, i.e., $a_0^{(0}$ and $a_1^{(0}$, with two edges leading to a single node in the output layer $(1)$, i.e., $a^{(1)}$.\n",
        "\n",
        "```mermaid\n",
        "%%{init:{'theme': 'neutral'}}%%\n",
        "graph LR\n",
        "    %% Define the 'invisible' class for the bias\n",
        "    classDef biasStyle fill:none,stroke:none,color:#000\n",
        "\n",
        "    subgraph Input Layer\n",
        "        direction TB\n",
        "        I0((\"a₀⁽⁰⁾\"))\n",
        "        I1((\"a₁⁽⁰⁾\"))\n",
        "    end\n",
        "\n",
        "    subgraph Output Layer\n",
        "        direction TB\n",
        "        O((\"a⁽¹⁾\"))\n",
        "    end\n",
        "\n",
        "    S{\"Σ\"}\n",
        "    f[\"σ\"]\n",
        "    b[\"b\"]:::biasStyle\n",
        "\n",
        "    I0 -->|\"w₀\"| S\n",
        "    I1 -->|\"w₁\"| S\n",
        "    b --> S\n",
        "\n",
        "    S --> f\n",
        "    f --> O\n",
        "```\n",
        "\n",
        "Then we can write:\n",
        "\n",
        "$$\n",
        "a^{(1)} = \\sigma(w_0a_0^{(0)} + w_1a_1^{(0)} + b) \\\\\n",
        "a^{(1)} = \\sigma\\left(\\sum_{j=0}^{1}(w_ja_j^{(0)}) + b\\right) \\\\\n",
        "$$\n",
        "\n",
        "Using vector notation for weights and input, we can even rewrite it as a dot product:\n",
        "\n",
        "$$\n",
        "a^{(1)} = \\sigma\\left(\\begin{bmatrix} w_0 \\\\ w_1 \\end{bmatrix} \\cdot \\begin{bmatrix} a_0^{(0)} \\\\ a_1^{(0)} \\end{bmatrix} + b \\right) \\\\\n",
        "a^{(1)} = \\sigma(\\mathbf{w} \\cdot \\mathbf{a}^{(0)} + b)\n",
        "$$"
      ]
    },
    {
      "cell_type": "markdown",
      "id": "7a2c9911",
      "metadata": {},
      "source": [
        "#### Towards matrices\n",
        "\n",
        "A neuron actually consists of the sum of different weighted input, in addition to a biais, followed by an activation function, altogether leading to the output.\n",
        "\n",
        "![Graphical representation of a neuron](https://blogs.cornell.edu/info2040/files/2015/09/VqOpE-1c4xc4y.jpg)\n",
        "\n",
        "Expanding the concept to a more complex neural networks, for example, where each neuron has its own bias, and when there are multiple nodes in the output layer as in the example below. _Note that we don't shown explicitely the sum and activation function for clarity._\n",
        "\n",
        "```mermaid\n",
        "%%{init:{'theme': 'neutral'}}%%\n",
        "graph LR\n",
        "    %% Define the 'invisible' class for the bias\n",
        "    classDef biasStyle fill:none,stroke:none,color:#000\n",
        "\n",
        "    I0((\"a₀⁽⁰⁾\"))\n",
        "    I1((\"a₁⁽⁰⁾\"))\n",
        "    I2((\"a₂⁽⁰⁾\"))\n",
        "\n",
        "    O0((\"a₀⁽¹⁾\"))\n",
        "    O1((\"a₁⁽¹⁾\"))\n",
        "\n",
        "    b0[\"b₀⁽¹⁾\"]:::biasStyle\n",
        "    b1[\"b₁⁽¹⁾\"]:::biasStyle\n",
        "\n",
        "    I0 -->|\"w₀,₀⁽¹⁾\"| O0\n",
        "    I0 -->|\"w₀,₁⁽¹⁾\"| O1\n",
        "    I1 -->|\"w₁,₀⁽¹⁾\"| O0\n",
        "    I1 -->|\"w₁,₁⁽¹⁾\"| O1\n",
        "    I2 -->|\"w₂,₀⁽¹⁾\"| O0\n",
        "    I2 -->|\"w₂,₁⁽¹⁾\"| O1\n",
        "\n",
        "    b0 -.-> O0\n",
        "    b1 -.-> O1\n",
        "```\n",
        "\n",
        "In this example, the two output vectors can be written as:\n",
        "\n",
        "$$\n",
        "a_0^{(1)} = \\sigma(\\mathbf{w}_0^{(1)} \\cdot \\mathbf{a}^{(0)} + b_0^{(1)})\n",
        "\\quad\n",
        "a_1^{(1)} = \\sigma(\\mathbf{w}_1^{(1)} \\cdot \\mathbf{a}^{(0)} + b_1^{(1)})\n",
        "$$\n",
        "\n",
        "At the end, we can switch to matrix (weights) and vector (output, input and bias) notations and write:\n",
        "\n",
        "$$\n",
        "\\begin{bmatrix} a_0^{(1)} \\\\ a_1^{(1)} \\end{bmatrix} = \\sigma\\left(\n",
        "    \\begin{bmatrix}\n",
        "    w_{0,0}^{(1)} && w_{1,0}^{(1)} && w_{2,0}^{(1)} \\\\\n",
        "    w_{0,1}^{(1)} && w_{1,1}^{(1)} && w_{2,1}^{(1)}\n",
        "    \\end{bmatrix}\n",
        "\n",
        "    \\begin{bmatrix}\n",
        "    a_0^{(0)} \\\\\n",
        "    a_1^{(0)} \\\\\n",
        "    a_2^{(0)}\n",
        "    \\end{bmatrix}\n",
        "\n",
        "    + \\begin{bmatrix}\n",
        "    b_0^{(1)} \\\\\n",
        "    b_1^{(1)}\n",
        "    \\end{bmatrix}\n",
        "\\right)\n",
        "$$\n",
        "\n",
        "Generalizing further, for example for a network consisting of two layers, with $n$ input and $m$ output nodes, we can write:\n",
        "\n",
        "$$\n",
        "\\mathbf{a}^{(1)} = \\sigma\\left(\\mathbf{W}^{(1)} \\mathbf{a}^{(0)} + \\mathbf{b}^{(1)}\\right)\n",
        "$$\n",
        "\n",
        "with the vector $\\mathbf{a}^{(1)}$ of size $[m \\times 1]$, same for vector $\\mathbf{b}^{(1)}$, the vector $\\mathbf{a}^{(0)}$ of size $[n \\times 1]$, and finally the matrix $\\mathbf{W}^{(1)}$ of size $[m \\times n]$."
      ]
    },
    {
      "cell_type": "markdown",
      "id": "9130351b",
      "metadata": {},
      "source": [
        "#### More complex network\n",
        "\n",
        "Let's now look at a more complex neural network with a hidden layer.\n",
        "\n",
        "```mermaid\n",
        "%%{init:{'theme': 'neutral'}}%%\n",
        "graph LR\n",
        "    %% Input Layer (4 nodes)\n",
        "    subgraph \"Input a⁽⁰⁾\"\n",
        "        direction TB\n",
        "        I1(( ))\n",
        "        I2(( ))\n",
        "        I3(( ))\n",
        "        I4(( ))\n",
        "    end\n",
        "\n",
        "    %% Hidden Layer (3 nodes)\n",
        "    subgraph \"Hidden a⁽¹⁾\"\n",
        "        direction TB\n",
        "        H1(( ))\n",
        "        H2(( ))\n",
        "        H3(( ))\n",
        "    end\n",
        "\n",
        "    %% Output Layer (2 nodes)\n",
        "    subgraph \"Output a⁽²⁾\"\n",
        "        direction TB\n",
        "        O1(( ))\n",
        "        O2(( ))\n",
        "    end\n",
        "\n",
        "    %% Connections from Input to Hidden\n",
        "    I1 --> H1\n",
        "    I1 --> H2\n",
        "    I1 --> H3\n",
        "    I2 --> H1\n",
        "    I2 --> H2\n",
        "    I2 --> H3\n",
        "    I3 --> H1\n",
        "    I3 --> H2\n",
        "    I3 --> H3\n",
        "    I4 --> H1\n",
        "    I4 --> H2\n",
        "    I4 --> H3\n",
        "\n",
        "    %% Connections from Hidden to Output\n",
        "    H1 --> O1\n",
        "    H1 --> O2\n",
        "    H2 --> O1\n",
        "    H2 --> O2\n",
        "    H3 --> O1\n",
        "    H3 --> O2\n",
        "```\n",
        "\n",
        "Hidden layers behave the same, and the outputs of the previous layer become the inputs of the next layer.\n",
        "\n",
        "$$\n",
        "\\mathbf{a}^{(1)} = \\sigma\\left(\\mathbf{W}^{(1)} \\mathbf{a}^{(0)} + \\mathbf{b}^{(1)}\\right) \\\\\n",
        "\\mathbf{a}^{(2)} = \\sigma\\left(\\mathbf{W}^{(2)} \\mathbf{a}^{(1)} + \\mathbf{b}^{(2)}\\right)\n",
        "$$\n",
        "\n",
        "So that for a given layer $L$, we can write:\n",
        "\n",
        "$$\n",
        "\\mathbf{a}^{(L)} = \\sigma\\left(\\mathbf{W}^{(L)} \\mathbf{a}^{(L-1)} + \\mathbf{b}^{(L)}\\right)\n",
        "$$"
      ]
    },
    {
      "cell_type": "markdown",
      "id": "4abc65b0",
      "metadata": {},
      "source": [
        "### The cost function\n",
        "\n",
        "Generally, the cost function can be written as:\n",
        "\n",
        "$$\n",
        "C = \\sum_i (a_i^{(L)} - y_i)^2\n",
        "$$\n",
        "\n",
        "where $a_i^{(L)}$ is the output vector given by the network, and $y_i$ the desired output. Basically we want to minimize the difference between the true/expected output and the output of the current network, by finding the minimum of the multidimensional hypersurface.\n",
        "\n",
        "This where the derivatives come into the game, and in particular the [Jacobian](https://en.wikipedia.org/wiki/Jacobian_matrix_and_determinant), which for a function $f(x_1, x_2, x_3, \\dots)$ is the row vector $J$ such as $J = [\\frac{\\partial{f}}{\\partial{x_1}}, \\frac{\\partial{f}}{\\partial{x_2}}, \\frac{\\partial{f}}{\\partial{x_3}}, \\dots]$. It gatters together the partial derivatives of the cost function with respect to all relevant variables, i.e., the weight and bias values. We can use the Jacobian for drawing the Jacobian vector field at different point of the hyperspace.\n",
        "\n",
        "Let's write the following equations:\n",
        "\n",
        "$$\n",
        "\\mathbf{z}^{(L)} = \\mathbf{W}^{(L)} \\mathbf{a}^{(L-1)} + \\mathbf{b}^{(L)} \\\\\n",
        "\\mathbf{a}^{(L)} = \\sigma(\\mathbf{z}^{(L)}) \\\\\n",
        "C = \\sum_i (a_i^{(L)} - y_i)^2\n",
        "$$\n",
        "\n",
        "So that using the chain rule, we can write:\n",
        "\n",
        "$$\n",
        "\\frac{\\partial{C}}{\\partial{W^{(L)}}} = \\frac{\\partial{C}}{\\partial{a^{(L)}}} \\frac{\\partial{a^{(L)}}}{\\partial{z^{(L)}}} \\frac{\\partial{z^{(L)}}}{\\partial{W^{(L)}}} \\\\\n",
        "\\frac{\\partial{C}}{\\partial{b^{(L)}}} = \\frac{\\partial{C}}{\\partial{a^{(L)}}} \\frac{\\partial{a^{(L)}}}{\\partial{z^{(L)}}} \\frac{\\partial{z^{(L)}}}{\\partial{b^{(L)}}}\n",
        "$$"
      ]
    },
    {
      "cell_type": "markdown",
      "id": "2e8ed97a",
      "metadata": {},
      "source": []
    }
  ],
  "metadata": {
    "colab": {
      "provenance": []
    },
    "kernelspec": {
      "display_name": ".env",
      "language": "python",
      "name": "python3"
    },
    "language_info": {
      "codemirror_mode": {
        "name": "ipython",
        "version": 3
      },
      "file_extension": ".py",
      "mimetype": "text/x-python",
      "name": "python",
      "nbconvert_exporter": "python",
      "pygments_lexer": "ipython3",
      "version": "3.12.10"
    }
  },
  "nbformat": 4,
  "nbformat_minor": 5
}
